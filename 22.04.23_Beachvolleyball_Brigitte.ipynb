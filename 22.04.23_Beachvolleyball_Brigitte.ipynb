{
 "cells": [
  {
   "cell_type": "code",
   "execution_count": null,
   "metadata": {
    "collapsed": true,
    "pycharm": {
     "is_executing": true
    }
   },
   "outputs": [],
   "source": [
    "\n",
    "import numpy as np\n",
    "from future.moves import tkinter\n",
    "\n",
    "\n",
    "class beachvolleyball:\n",
    "TeamA = float(input(\"Stärke von Team A, 0-1: \"))\n",
    "print(TeamA)\n",
    "TeamB = float(input(\"Stärke von Team B0, 0-1: \"))\n",
    "risiko_results[spieldurchgang][risiko] = dict()\n",
    "print(\"Risiko:\", risiko)\n",
    "TeamA.risiko = risiko\n",
    "TeamA.punkte = 0\n",
    "TeamB.punkte = 0\n",
    "spieldurchgang = 1\n",
    "\n",
    "while max(punkteA, punkteB) < 22:\n",
    "    ballA = np.random.normal(TeamA, 0.1)\n",
    "    print(ballA, \"TeamA\")\n",
    "    ballB = np.random.normal(TeamB, 0.1)\n",
    "    print(ballB, \"TeamB\")\n",
    "\n",
    "    if ballA > ballB:\n",
    "        punkteA += 1\n",
    "\n",
    "    else:\n",
    "        punkteB += 1\n",
    "\n",
    "    print(\"TeamA\", punkteA, \"TeamB\", punkteB)\n",
    "\n",
    "\n",
    "\n",
    "\n",
    "\n",
    "\n",
    "\n",
    "\n",
    "\n",
    "\n",
    "\n",
    "\n",
    "\n",
    "\n",
    "#spieldurchgang == 21:\n",
    "        #print(\"Punkte fertig\")\n"
   ]
  },
  {
   "cell_type": "code",
   "execution_count": null,
   "outputs": [],
   "source": [
    "import matplotlib.pyplot as plt\n",
    "count, bins, ignored = plt.hist(s, 30, density=True)\n",
    "plt.plot(bins, 1/(sigma * np.sqrt(2 * np.pi)) *\n",
    "               np.exp( - (bins - mu)**2 / (2 * sigma**2) ),\n",
    "         linewidth=2, color='r')\n",
    "plt.show()\n",
    "\n",
    "\n"
   ],
   "metadata": {
    "collapsed": false,
    "pycharm": {
     "is_executing": true
    }
   }
  },
  {
   "cell_type": "code",
   "execution_count": null,
   "outputs": [],
   "source": [],
   "metadata": {
    "collapsed": false
   }
  },
  {
   "cell_type": "code",
   "execution_count": null,
   "outputs": [],
   "source": [
    "\n",
    "import pygame\n",
    "import random\n",
    "import sys\n",
    "\n",
    "x = 500\n",
    "y = 500\n",
    "sbreite = 100\n",
    "shoehe = 15\n",
    "sx = 200\n",
    "sy = 450\n",
    "bx = int(x/2)\n",
    "by = int(y/2)\n",
    "brad = 15\n",
    "speed = 0\n",
    "bxspeed = 1\n",
    "byspeed = -2\n",
    "leben = 3\n",
    "\n",
    "pygame.init()\n",
    "screen = pygame.display.set_mode([x,y])\n",
    "screen.fill((0,0,0))\n",
    "\n",
    "pygame.draw.circle(screen, (255,255,0), (bx, by), brad, 0)\n",
    "pygame.draw.rect(screen, (255,40,0), (sx,sy,sbreite,shoehe),0)\n",
    "pygame.display.flip()\n",
    "\n",
    "def sblock():\n",
    "    global speed\n",
    "    if sx <= 0 or sx >= x-sbreite:\n",
    "        speed = 0\n",
    "def ballbewegung():\n",
    "    global bx, by\n",
    "    bx += bxspeed\n",
    "    by += byspeed\n",
    "def reset():\n",
    "    global byspeed, bxspeed, leben, bx,by,sx,sy, speed\n",
    "    sx = 200\n",
    "    sy = 450\n",
    "    bx = int(x/2)\n",
    "    by = int(y/2)\n",
    "\n",
    "    speed = 0\n",
    "    bxspeed = random.randint(-2,2)\n",
    "    if bxspeed == 0:\n",
    "        bxspeed = 1\n",
    "\n",
    "    byspeed = random.randint(-2,2)\n",
    "    if byspeed == 0:\n",
    "        byspeed = 2\n",
    "    screen.fill((0,0,0))\n",
    "    pygame.draw.circle(screen, (255,255,0), (bx, by), brad, 0)\n",
    "    pygame.draw.rect(screen, (255,40,0), (sx,sy,sbreite,shoehe),0)\n",
    "    pygame.display.flip()\n",
    "    pygame.time.wait(1000)\n",
    "\n",
    "    def ballblock():\n",
    "        global byspeed, bxspeed, leben\n",
    "        if by-brad <=0:\n",
    "            byspeed *= -1\n",
    "        if bx-brad<=0:\n",
    "            bxspeed *= -1\n",
    "        if bx+brad >= x:\n",
    "            bxspeed *= -1\n",
    "        if by >= 435 or by <=440:\n",
    "            if bx > sx-15 or bx <= sx+sbreite+15:\n",
    "                byspeed *= -1\n",
    "            else:\n",
    "                leben -= 1\n",
    "                reset()\n",
    "\n",
    "    def sbewegung():\n",
    "        global sx\n",
    "        sx += speed\n",
    "    while leben>0:\n",
    "        for event in pygame.event.get():\n",
    "            if event.type == pygame.QUIT:sys.exit()\n",
    "            if event.type == pygame.KEYDOWN:\n",
    "                if event.key == pygame.K_LEFT:\n",
    "                    speed = -2\n",
    "                if event.key == pygame.K_RIGTH:\n",
    "                    speed = 2\n",
    "        screen.fill((0,0,0))\n",
    "        sbewegung()\n",
    "        sblock()\n",
    "        pygame.draw.rect(screen, (255,40,0), (sx,sy,sbreite,shoehe),0)\n",
    "        ballbewegung()\n",
    "        ballblock()\n",
    "        pygame.draw.circle(screen, (255,255,0), (bx, by), brad, 0)\n",
    "        pygame.display.flip()\n",
    "        pygame.time.wait(5)\n",
    "\n",
    "    print(\"ha ha verloren\")\n",
    "\n",
    "\n"
   ],
   "metadata": {
    "collapsed": false
   }
  },
  {
   "cell_type": "code",
   "execution_count": null,
   "outputs": [],
   "source": [
    "\n"
   ],
   "metadata": {
    "collapsed": false
   }
  }
 ],
 "metadata": {
  "kernelspec": {
   "display_name": "Python 3",
   "language": "python",
   "name": "python3"
  },
  "language_info": {
   "codemirror_mode": {
    "name": "ipython",
    "version": 2
   },
   "file_extension": ".py",
   "mimetype": "text/x-python",
   "name": "python",
   "nbconvert_exporter": "python",
   "pygments_lexer": "ipython2",
   "version": "2.7.6"
  }
 },
 "nbformat": 4,
 "nbformat_minor": 0
}
