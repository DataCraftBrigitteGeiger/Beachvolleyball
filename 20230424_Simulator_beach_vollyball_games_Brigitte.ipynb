{
 "cells": [
  {
   "cell_type": "code",
   "execution_count": null,
   "outputs": [],
   "source": [
    "import numpy as np\n",
    "import pandas as pd\n",
    "import matplotlib.pyplot as plt\n",
    "import seaborn as sns"
   ],
   "metadata": {
    "collapsed": false
   }
  },
  {
   "cell_type": "code",
   "execution_count": 6,
   "outputs": [
    {
     "ename": "NameError",
     "evalue": "name 'np' is not defined",
     "output_type": "error",
     "traceback": [
      "\u001B[1;31m---------------------------------------------------------------------------\u001B[0m",
      "\u001B[1;31mNameError\u001B[0m                                 Traceback (most recent call last)",
      "Cell \u001B[1;32mIn[6], line 20\u001B[0m\n\u001B[0;32m     18\u001B[0m \u001B[38;5;28;01mwhile\u001B[39;00m \u001B[38;5;28;01mTrue\u001B[39;00m:\n\u001B[0;32m     19\u001B[0m     teamA_prob \u001B[38;5;241m=\u001B[39m (teamA_strength \u001B[38;5;241m*\u001B[39m (\u001B[38;5;241m1\u001B[39m \u001B[38;5;241m+\u001B[39m teamA_risk)) \u001B[38;5;241m/\u001B[39m (teamA_strength \u001B[38;5;241m*\u001B[39m (\u001B[38;5;241m1\u001B[39m \u001B[38;5;241m+\u001B[39m teamA_risk) \u001B[38;5;241m+\u001B[39m teamB_strength \u001B[38;5;241m*\u001B[39m (\u001B[38;5;241m1\u001B[39m \u001B[38;5;241m-\u001B[39m teamB_risk))\n\u001B[1;32m---> 20\u001B[0m     teamA_successes \u001B[38;5;241m=\u001B[39m \u001B[43mnp\u001B[49m\u001B[38;5;241m.\u001B[39mrandom\u001B[38;5;241m.\u001B[39mnormal(\u001B[38;5;241m1\u001B[39m, teamA_prob)\n\u001B[0;32m     21\u001B[0m     teamB_successes \u001B[38;5;241m=\u001B[39m \u001B[38;5;241m1\u001B[39m \u001B[38;5;241m-\u001B[39m teamA_successes\n\u001B[0;32m     22\u001B[0m     teamA_score \u001B[38;5;241m+\u001B[39m\u001B[38;5;241m=\u001B[39m teamA_successes\n",
      "\u001B[1;31mNameError\u001B[0m: name 'np' is not defined"
     ]
    }
   ],
   "source": [
    "\n",
    "# Definiere Team A\n",
    "teamA_strength = int(input(\"Wähle eine Spielstärke(1-10) für Team A: \"))             # Spielstärke\n",
    "teamA_risk = float(input(\"Wähle eine Risikobereitschaft(0.0-1.0) für Team A: \"))     # Risiko\n",
    "\n",
    "# Definiere Team B\n",
    "teamB_strength = int(input(\"Wähle eine Spielstärke(1-10) für Team B: \"))             # Spielstärke\n",
    "teamB_risk = float(input(\"Wähle eine Risikobereitschaft(0.0-1.0) für Team B: \"))     # Risiko 0.0=halbes Risiko, 1.0=100% Risiko\n",
    "\n",
    "teamA_wins = 0\n",
    "teamB_wins = 0\n",
    "\n",
    "results = []\n",
    "\n",
    "for i in range(1000):      # Anzahl der simulierten Spiele\n",
    "    teamA_score = 0\n",
    "    teamB_score = 0\n",
    "                            # Simuliert Punkte anhand Stärke & Risiko\n",
    "    while True:\n",
    "        teamA_prob = (teamA_strength * (1 + teamA_risk)) / (teamA_strength * (1 + teamA_risk) + teamB_strength * (1 - teamB_risk))\n",
    "        teamA_successes = np.random.normal(1, teamA_prob)\n",
    "        teamB_successes = 1 - teamA_successes\n",
    "        teamA_score += teamA_successes\n",
    "        teamB_score += teamB_successes\n",
    "\n",
    "        # Gewinn Ermittlung\n",
    "        if teamA_score >= 21 and teamA_score - teamB_score >= 2:\n",
    "            teamA_wins += 1\n",
    "            results.append((i+1, \"Team A\", teamA_score, teamB_score))\n",
    "            break\n",
    "        elif teamB_score >= 21 and teamB_score - teamA_score >= 2:\n",
    "            teamB_wins += 1\n",
    "            results.append((i+1, \"Team B\", teamA_score, teamB_score))\n",
    "            break\n",
    "\n",
    "\n",
    "\n",
    "# Ausgabe als DataFrame als Variable\n",
    "df = pd.DataFrame(results, columns=[\"spiel\", \"gewinner\", \"team_A_pkt\", \"team_B_pkt\"])\n",
    "df\n"
   ],
   "metadata": {
    "collapsed": false
   }
  },
  {
   "cell_type": "code",
   "execution_count": null,
   "outputs": [],
   "source": [
    "# Wiedergabe der Team-Parameter\n",
    "print(\"Team A Str. {teamA_strength}\")\n",
    "print(\"Team A Risk. {teamA_risk}\")\n",
    "print(\"Team B Str. {teamB_strength}\")\n",
    "print(\"Team B Risk. {teamB_risk}\")"
   ],
   "metadata": {
    "collapsed": false
   }
  },
  {
   "cell_type": "code",
   "execution_count": 32,
   "outputs": [
    {
     "name": "stdout",
     "output_type": "stream",
     "text": [
      "<bound method NDFrame.to_csv of      spiel gewinner  team_A_pkt  team_B_pkt\n",
      "0        1   Team A   21.447342    1.552658\n",
      "1        2   Team A   21.810476   -0.810476\n",
      "2        3   Team A   21.275504    0.724496\n",
      "3        4   Team A   21.252311   -2.252311\n",
      "4        5   Team A   21.399262   -0.399262\n",
      "..     ...      ...         ...         ...\n",
      "995    996   Team A   21.336366   -0.336366\n",
      "996    997   Team A   21.152366    2.847634\n",
      "997    998   Team A   21.355198    2.644802\n",
      "998    999   Team A   21.809755    1.190245\n",
      "999   1000   Team A   21.393941    0.606059\n",
      "\n",
      "[1000 rows x 4 columns]>\n"
     ]
    },
    {
     "ename": "NameError",
     "evalue": "name 'heatmap_df' is not defined",
     "output_type": "error",
     "traceback": [
      "\u001B[1;31m---------------------------------------------------------------------------\u001B[0m",
      "\u001B[1;31mNameError\u001B[0m                                 Traceback (most recent call last)",
      "Cell \u001B[1;32mIn[32], line 4\u001B[0m\n\u001B[0;32m      2\u001B[0m df\u001B[38;5;241m.\u001B[39mto_csv(\u001B[38;5;124m\"\u001B[39m\u001B[38;5;124mBegegnungen_1000_1-0.0!1-0.0.csv\u001B[39m\u001B[38;5;124m\"\u001B[39m, sep\u001B[38;5;241m=\u001B[39m \u001B[38;5;124m\"\u001B[39m\u001B[38;5;124m;\u001B[39m\u001B[38;5;124m\"\u001B[39m)\n\u001B[0;32m      3\u001B[0m \u001B[38;5;28mprint\u001B[39m(df\u001B[38;5;241m.\u001B[39mto_csv)\n\u001B[1;32m----> 4\u001B[0m \u001B[43mheatmap_df\u001B[49m\u001B[38;5;241m.\u001B[39mto_csv(\u001B[38;5;124m\"\u001B[39m\u001B[38;5;124mheatmap.csv\u001B[39m\u001B[38;5;124m\"\u001B[39m, index\u001B[38;5;241m=\u001B[39m\u001B[38;5;28;01mFalse\u001B[39;00m)\n",
      "\u001B[1;31mNameError\u001B[0m: name 'heatmap_df' is not defined"
     ]
    }
   ],
   "source": [
    "# Export Begegnung_1000_6-0.5:9-0.0.csv Datei (_1000_6-0.5!9-0.0 = Berechnungsparameter (Durchläufe_TeamA Stärke-Risiko!TeamB Stärke-Risiko))\n",
    "df.to_csv(\"Begegnungen_1000_1-0.0!1-0.0.csv\", sep= \";\")\n",
    "print(df.to_csv)\n"
   ],
   "metadata": {
    "collapsed": false
   }
  },
  {
   "cell_type": "code",
   "execution_count": null,
   "outputs": [],
   "source": [
    "df.to_csv(\"heatmap.csv\", index=False)\n",
    "\n",
    "plot.safefig(\"heatmap.png\")\n",
    "plot = sns.heatmap(df, cmap ='RdYlGn', linewidths = 0.30, annot = False, cbar_kws={'label': 'Risk with most observed victories'})\n",
    "plt.xlabel(\"Score \" + teamA.score)\n",
    "plt.ylabel(\"Score \" + teamB_score)\n",
    "plt.title(\"Optimal risk by score situation:\\n\" + teamA_score + \" successes \" + str(teamA_successes) + \" vs. \" + teamB_score + \" successes \" + str(teamB_successes))\n",
    "plt.show()\n",
    "\n",
    "\n",
    "\n"
   ],
   "metadata": {
    "collapsed": false,
    "pycharm": {
     "is_executing": true
    }
   }
  },
  {
   "cell_type": "markdown",
   "source": [],
   "metadata": {
    "collapsed": false
   }
  }
 ],
 "metadata": {
  "kernelspec": {
   "display_name": "Python 3",
   "language": "python",
   "name": "python3"
  },
  "language_info": {
   "codemirror_mode": {
    "name": "ipython",
    "version": 2
   },
   "file_extension": ".py",
   "mimetype": "text/x-python",
   "name": "python",
   "nbconvert_exporter": "python",
   "pygments_lexer": "ipython2",
   "version": "2.7.6"
  }
 },
 "nbformat": 4,
 "nbformat_minor": 0
}
