{
 "cells": [
  {
   "cell_type": "code",
   "execution_count": 30,
   "outputs": [],
   "source": [
    "import numpy as np\n",
    "import pandas as pd\n",
    "import matplotlib.pyplot as plt\n"
   ],
   "metadata": {
    "collapsed": false,
    "ExecuteTime": {
     "start_time": "2023-04-24T12:54:19.965283Z",
     "end_time": "2023-04-24T12:54:19.974812Z"
    }
   }
  },
  {
   "cell_type": "code",
   "execution_count": 31,
   "metadata": {
    "collapsed": true,
    "ExecuteTime": {
     "start_time": "2023-04-24T15:22:22.518688Z",
     "end_time": "2023-04-24T15:22:31.617463Z"
    }
   },
   "outputs": [
    {
     "data": {
      "text/plain": "     spiel gewinner  team_A_pkt  team_B_pkt\n0        1   Team A          21          14\n1        2   Team A          21          11\n2        3   Team A          21           5\n3        4   Team A          21           7\n4        5   Team A          21           6\n..     ...      ...         ...         ...\n995    996   Team A          21           5\n996    997   Team A          21          10\n997    998   Team A          21           6\n998    999   Team A          21           5\n999   1000   Team A          21          13\n\n[1000 rows x 4 columns]",
      "text/html": "<div>\n<style scoped>\n    .dataframe tbody tr th:only-of-type {\n        vertical-align: middle;\n    }\n\n    .dataframe tbody tr th {\n        vertical-align: top;\n    }\n\n    .dataframe thead th {\n        text-align: right;\n    }\n</style>\n<table border=\"1\" class=\"dataframe\">\n  <thead>\n    <tr style=\"text-align: right;\">\n      <th></th>\n      <th>spiel</th>\n      <th>gewinner</th>\n      <th>team_A_pkt</th>\n      <th>team_B_pkt</th>\n    </tr>\n  </thead>\n  <tbody>\n    <tr>\n      <th>0</th>\n      <td>1</td>\n      <td>Team A</td>\n      <td>21</td>\n      <td>14</td>\n    </tr>\n    <tr>\n      <th>1</th>\n      <td>2</td>\n      <td>Team A</td>\n      <td>21</td>\n      <td>11</td>\n    </tr>\n    <tr>\n      <th>2</th>\n      <td>3</td>\n      <td>Team A</td>\n      <td>21</td>\n      <td>5</td>\n    </tr>\n    <tr>\n      <th>3</th>\n      <td>4</td>\n      <td>Team A</td>\n      <td>21</td>\n      <td>7</td>\n    </tr>\n    <tr>\n      <th>4</th>\n      <td>5</td>\n      <td>Team A</td>\n      <td>21</td>\n      <td>6</td>\n    </tr>\n    <tr>\n      <th>...</th>\n      <td>...</td>\n      <td>...</td>\n      <td>...</td>\n      <td>...</td>\n    </tr>\n    <tr>\n      <th>995</th>\n      <td>996</td>\n      <td>Team A</td>\n      <td>21</td>\n      <td>5</td>\n    </tr>\n    <tr>\n      <th>996</th>\n      <td>997</td>\n      <td>Team A</td>\n      <td>21</td>\n      <td>10</td>\n    </tr>\n    <tr>\n      <th>997</th>\n      <td>998</td>\n      <td>Team A</td>\n      <td>21</td>\n      <td>6</td>\n    </tr>\n    <tr>\n      <th>998</th>\n      <td>999</td>\n      <td>Team A</td>\n      <td>21</td>\n      <td>5</td>\n    </tr>\n    <tr>\n      <th>999</th>\n      <td>1000</td>\n      <td>Team A</td>\n      <td>21</td>\n      <td>13</td>\n    </tr>\n  </tbody>\n</table>\n<p>1000 rows × 4 columns</p>\n</div>"
     },
     "execution_count": 31,
     "metadata": {},
     "output_type": "execute_result"
    }
   ],
   "source": [
    "\n",
    "# Definiere Team A\n",
    "teamA_strength = int(input(\"Wähle eine Spielstärke(1-10) für Team A: \"))             # Spielstärke\n",
    "teamA_risk = float(input(\"Wähle eine Risikobereitschaft(0.0-1.0) für Team A: \"))     # Risiko\n",
    "\n",
    "# Definiere Team B\n",
    "teamB_strength = int(input(\"Wähle eine Spielstärke(1-10) für Team B: \"))             # Spielstärke\n",
    "teamB_risk = float(input(\"Wähle eine Risikobereitschaft(0.0-1.0) für Team B: \"))     # Risiko 0.0=halbes Risiko, 1.0=100% Risiko\n",
    "\n",
    "teamA_wins = 0\n",
    "teamB_wins = 0\n",
    "\n",
    "results = []\n",
    "\n",
    "for i in range(1000):      # Anzahl der simulierten Spiele\n",
    "    teamA_score = 0\n",
    "    teamB_score = 0\n",
    "                            # Simuliert Punkte anhand Stärke & Risiko\n",
    "    while True:\n",
    "        teamA_prob = (teamA_strength * (1 + teamA_risk)) / (teamA_strength * (1 + teamA_risk) + teamB_strength * (1 - teamB_risk))\n",
    "        teamA_successes = np.random.binomial(1, teamA_prob)\n",
    "        teamB_successes = 1 - teamA_successes\n",
    "        teamA_score += teamA_successes\n",
    "        teamB_score += teamB_successes\n",
    "\n",
    "        # Gewinn Ermittlung\n",
    "        if teamA_score >= 21 and teamA_score - teamB_score >= 2:\n",
    "            teamA_wins += 1\n",
    "            results.append((i+1, \"Team A\", teamA_score, teamB_score))\n",
    "            break\n",
    "        elif teamB_score >= 21 and teamB_score - teamA_score >= 2:\n",
    "            teamB_wins += 1\n",
    "            results.append((i+1, \"Team B\", teamA_score, teamB_score))\n",
    "            break\n",
    "\n",
    "\n",
    "\n",
    "# Ausgabe als DataFrame als Variable\n",
    "df = pd.DataFrame(results, columns=[\"spiel\", \"gewinner\", \"team_A_pkt\", \"team_B_pkt\"])\n",
    "df\n"
   ]
  },
  {
   "cell_type": "code",
   "execution_count": 32,
   "outputs": [
    {
     "name": "stdout",
     "output_type": "stream",
     "text": [
      "Team A Str. 2\n",
      "Team A Risk. 0.1\n",
      "Team B Str. 1\n",
      "Team B Risk. 0.1\n"
     ]
    }
   ],
   "source": [
    "# Wiedergabe der Team-Parameter\n",
    "print(\"Team A Str. {teamA_strength}\")\n",
    "print(\"Team A Risk. {teamA_risk}\")\n",
    "print(\"Team B Str. {teamB_strength}\")\n",
    "print(\"Team B Risk. {teamB_risk}\")"
   ],
   "metadata": {
    "collapsed": false,
    "ExecuteTime": {
     "start_time": "2023-04-24T15:23:02.506156Z",
     "end_time": "2023-04-24T15:23:02.536581Z"
    }
   }
  },
  {
   "cell_type": "code",
   "execution_count": 33,
   "outputs": [
    {
     "name": "stdout",
     "output_type": "stream",
     "text": [
      "<bound method NDFrame.to_csv of      spiel gewinner  team_A_pkt  team_B_pkt\n",
      "0        1   Team A          21          14\n",
      "1        2   Team A          21          11\n",
      "2        3   Team A          21           5\n",
      "3        4   Team A          21           7\n",
      "4        5   Team A          21           6\n",
      "..     ...      ...         ...         ...\n",
      "995    996   Team A          21           5\n",
      "996    997   Team A          21          10\n",
      "997    998   Team A          21           6\n",
      "998    999   Team A          21           5\n",
      "999   1000   Team A          21          13\n",
      "\n",
      "[1000 rows x 4 columns]>\n"
     ]
    }
   ],
   "source": [
    "# Export Begegnung_1000_6-0.5:9-0.0.csv Datei (_1000_6-0.5!9-0.0 = Berechnungsparameter (Durchläufe_TeamA Stärke-Risiko!TeamB Stärke-Risiko))\n",
    "df.to_csv(\"Begegnungen_1000_1-0.0!1-0.0.csv\", sep= \";\")\n",
    "print(df.to_csv)"
   ],
   "metadata": {
    "collapsed": false,
    "ExecuteTime": {
     "start_time": "2023-04-24T15:23:06.797710Z",
     "end_time": "2023-04-24T15:23:06.953315Z"
    }
   }
  },
  {
   "cell_type": "code",
   "execution_count": 44,
   "outputs": [
    {
     "data": {
      "text/plain": "<Figure size 640x480 with 1 Axes>",
      "image/png": "[encoded data removed]"
     },
     "metadata": {},
     "output_type": "display_data"
    }
   ],
   "source": [
    "\n",
    "\n",
    "a,m = 3., 2.  # shape and mode\n",
    "s = (np.random.pareto(a, 1000) + 1) * m\n",
    "# Zeigen Sie das Histogramm der Stichproben zusammen mit der Wahrscheinlichkeitsdichtefunktion an:\n",
    "\n",
    "import matplotlib.pyplot as plt\n",
    "count, bins, _ = plt.hist(s, 100, density=True)\n",
    "fit = a*m**a / bins**(a+1)\n",
    "plt.plot(bins, max(count)*fit/max(fit), linewidth=2, color='r')\n",
    "plt.show()"
   ],
   "metadata": {
    "collapsed": false
   }
  },
  {
   "cell_type": "markdown",
   "source": [],
   "metadata": {
    "collapsed": false
   }
  }
 ],
 "metadata": {
  "kernelspec": {
   "display_name": "Python 3",
   "language": "python",
   "name": "python3"
  },
  "language_info": {
   "codemirror_mode": {
    "name": "ipython",
    "version": 2
   },
   "file_extension": ".py",
   "mimetype": "text/x-python",
   "name": "python",
   "nbconvert_exporter": "python",
   "pygments_lexer": "ipython2",
   "version": "2.7.6"
  }
 },
 "nbformat": 4,
 "nbformat_minor": 0
}
